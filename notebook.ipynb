{
 "cells": [
  {
   "cell_type": "markdown",
   "metadata": {},
   "source": [
    "## PPG:\n",
    "---\n",
    "\n",
    "Photoplethysmography (PPG) is an optical measurement technique that can be used to detect blood volume changes in the microvascular bed of tissue. The pulsatile component of the PPG waveform is often called the ‘AC’ component and usually has its fundamental frequency, typically around 1 Hz, depending on heart rate. This AC component is superimposed onto a large quasi-DC component that relates to the tissues and to the average blood volume. \n",
    "\n",
    "#### Key factors that effect PPG:\n",
    "---\n",
    "\n",
    "1. blood volume\n",
    "1. blood vessel wall movement \n",
    "1. orientation of red blood cells (RBC)\n",
    "1. wavelength of optical radiation\n",
    "\n",
    "#### Clinical Application:\n",
    "---\n",
    "1. Blood oxygen saturation\n",
    "1. Heart rate\n",
    "1. Blood pressure\n",
    "1. Cardiac output\n",
    "1. Respiration\n",
    "\n",
    "\n",
    "\n"
   ]
  },
  {
   "cell_type": "markdown",
   "metadata": {},
   "source": [
    "## Accelerometer:\n",
    "---\n",
    "\n",
    "An accelerometer is a device that measures proper acceleration; proper acceleration is not the same as coordinate acceleration (rate of change of velocity). For example, an accelerometer at rest on the surface of the Earth will measure an acceleration due to Earth's gravity, straight upwards (by definition) of g ≈ 9.81 m/s2. By contrast, accelerometers in free fall (falling toward the center of the Earth at a rate of about 9.81 m/s2) will measure zero.\n",
    "\n",
    "Conceptually, an accelerometer behaves as a damped mass on a spring. When the accelerometer experiences an acceleration, the mass is displaced to the point that the spring is able to accelerate the mass at the same rate as the casing. The displacement is then measured to give the acceleration."
   ]
  },
  {
   "cell_type": "markdown",
   "metadata": {},
   "source": [
    "### Useful links:\n",
    "1. http://www.zhilinzhang.com/spcup2015/\n",
    "1. https://jneuroengrehab.biomedcentral.com/articles/10.1186/1743-0003-2-3"
   ]
  },
  {
   "cell_type": "code",
   "execution_count": null,
   "metadata": {
    "collapsed": true
   },
   "outputs": [],
   "source": []
  }
 ],
 "metadata": {
  "kernelspec": {
   "display_name": "Python 2",
   "language": "python",
   "name": "python2"
  },
  "language_info": {
   "codemirror_mode": {
    "name": "ipython",
    "version": 2
   },
   "file_extension": ".py",
   "mimetype": "text/x-python",
   "name": "python",
   "nbconvert_exporter": "python",
   "pygments_lexer": "ipython2",
   "version": "2.7.11"
  }
 },
 "nbformat": 4,
 "nbformat_minor": 0
}
