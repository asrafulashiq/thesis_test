{
 "cells": [
  {
   "cell_type": "markdown",
   "metadata": {},
   "source": [
    "## PPG:\n",
    "---\n",
    "\n",
    "Photoplethysmography (PPG) is an optical measurement technique that can be used to detect blood volume changes in the microvascular bed of tissue. The pulsatile component of the PPG waveform is often called the ‘AC’ component and usually has its fundamental frequency, typically around 1 Hz, depending on heart rate. This AC component is superimposed onto a large quasi-DC component that relates to the tissues and to the average blood volume. \n",
    "\n",
    "#### Key factors that effect PPG:\n",
    "---\n",
    "\n",
    "1. blood volume\n",
    "1. blood vessel wall movement \n",
    "1. orientation of red blood cells (RBC)\n",
    "1. wavelength of optical radiation"
   ]
  },
  {
   "cell_type": "markdown",
   "metadata": {},
   "source": [
    "### Useful links:\n",
    "http://www.zhilinzhang.com/spcup2015/"
   ]
  }
 ],
 "metadata": {
  "kernelspec": {
   "display_name": "Python 2",
   "language": "python",
   "name": "python2"
  },
  "language_info": {
   "codemirror_mode": {
    "name": "ipython",
    "version": 2
   },
   "file_extension": ".py",
   "mimetype": "text/x-python",
   "name": "python",
   "nbconvert_exporter": "python",
   "pygments_lexer": "ipython2",
   "version": "2.7.11"
  }
 },
 "nbformat": 4,
 "nbformat_minor": 0
}
